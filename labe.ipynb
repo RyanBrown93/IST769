{
 "cells": [
  {
   "cell_type": "code",
   "execution_count": 1,
   "id": "680e79e5-428d-4d67-84c6-1b7e7c63edcb",
   "metadata": {},
   "outputs": [
    {
     "name": "stdout",
     "output_type": "stream",
     "text": [
      "Hello\n"
     ]
    }
   ],
   "source": [
    "import pyspark\n",
    "from pyspark.sql import SparkSession\n",
    "print(\"Hello\")"
   ]
  },
  {
   "cell_type": "code",
   "execution_count": 4,
   "id": "9639fdab-e556-4d2a-9750-940690b17a39",
   "metadata": {},
   "outputs": [
    {
     "name": "stdout",
     "output_type": "stream",
     "text": [
      "http://minio:9000\n"
     ]
    }
   ],
   "source": [
    "#Minio Configuration\n",
    "s3_host = \"minio\"\n",
    "s3_url = f\"http://{s3_host}:9000\"\n",
    "s3_key = \"minio\"\n",
    "s3_secret = \"SU2orange!\"\n",
    "s3_bucket = \"labe\"\n",
    "print(s3_url)"
   ]
  },
  {
   "cell_type": "code",
   "execution_count": 5,
   "id": "88aace4d-431c-4d20-b613-672df149de46",
   "metadata": {},
   "outputs": [
    {
     "name": "stdout",
     "output_type": "stream",
     "text": [
      "labe\n"
     ]
    }
   ],
   "source": [
    "#Spark init\n",
    "spark = SparkSession.builder \\\n",
    "    .master(\"local\") \\\n",
    "    .appName('jupyter-psyspark') \\\n",
    "    .config(\"spark.jars.packages\",\"org.apache.hadoop:hadoop-aws:3.1.2\") \\\n",
    "    .config(\"spark.hadoop.fs.s3a.endpoint\", s3_url) \\\n",
    "    .config(\"spark.hadoop.fs.s3a.access.key\", s3_key) \\\n",
    "    .config(\"spark.hadoop.fs.s3a.secret.key\", s3_secret) \\\n",
    "    .config(\"spark.hadoop.fs.s3a.fast.upload\", True) \\\n",
    "    .config(\"spark.hadoop.fs.s3a.path.style.access\", True) \\\n",
    "    .config(\"spark.hadoop.fs.s3a.impl\", \"org.apache.hadoop.fs.s3a.S3AFileSystem\") \\\n",
    "    .getOrCreate()\n",
    "sc = spark.sparkContext\n",
    "print(s3_bucket)\n",
    "sc.setLogLevel(\"ERROR\")"
   ]
  },
  {
   "cell_type": "code",
   "execution_count": 8,
   "id": "64b943f6-ee87-4f19-b274-1fcacdcdae02",
   "metadata": {},
   "outputs": [
    {
     "name": "stdout",
     "output_type": "stream",
     "text": [
      "Hello\n",
      "+---------+----------------+-----------------+----------------+--------------+--------------+-------------+------------+-------------+------------+------------------------+-------------------------+------------------------+-------------------+--------------------+-------------------+-----------------+------------------+-----------------+---------------+----------+-------------+--------------+\n",
      "|      EST|Max TemperatureF|Mean TemperatureF|Min TemperatureF|Max Dew PointF|MeanDew PointF|Min DewpointF|Max Humidity|Mean Humidity|Min Humidity|Max Sea Level PressureIn|Mean Sea Level PressureIn|Min Sea Level PressureIn|Max VisibilityMiles|Mean VisibilityMiles|Min VisibilityMiles|Max Wind SpeedMPH|Mean Wind SpeedMPH|Max Gust SpeedMPH|PrecipitationIn|CloudCover|       Events|WindDirDegrees|\n",
      "+---------+----------------+-----------------+----------------+--------------+--------------+-------------+------------+-------------+------------+------------------------+-------------------------+------------------------+-------------------+--------------------+-------------------+-----------------+------------------+-----------------+---------------+----------+-------------+--------------+\n",
      "| 1997-1-1|              27|               12|              -2|            22|             4|           -8|          92|           74|          59|                   30.52|                    30.22|                   29.86|                 10|                   9|                  1|               14|                 5|             null|           0.05|         6|         Snow|            89|\n",
      "| 1997-1-2|              34|               28|              23|            33|            29|           21|         100|           96|          88|                   29.84|                    29.74|                   29.53|                  9|                   2|                  0|                8|                 4|             null|           0.08|         8|Fog-Rain-Snow|            82|\n",
      "| 1997-1-3|              44|               40|              36|            44|            38|           34|         100|           96|          89|                    29.9|                    29.68|                    29.5|                 10|                   4|                  0|               15|                 6|             null|           0.09|         8|     Fog-Rain|           273|\n",
      "| 1997-1-4|              48|               40|              34|            44|            36|           33|          96|           90|          83|                   29.99|                    29.87|                   29.62|                 10|                  10|                  8|               13|                 4|             null|           0.00|         8|         Rain|            80|\n",
      "| 1997-1-5|              55|               46|              37|            50|            43|           29|          89|           81|          73|                   29.62|                    29.45|                   29.29|                 10|                  10|                 10|               21|                11|               30|           0.13|         8|         Rain|           199|\n",
      "| 1997-1-6|              36|               32|              27|            26|            19|           13|          85|           63|          53|                   29.87|                    29.72|                   29.53|                 10|                   9|                  2|               29|                20|               36|           0.00|         8|         Snow|           262|\n",
      "| 1997-1-7|              28|               26|              23|            22|            15|           11|          91|           68|          49|                   30.01|                    29.89|                   29.83|                 10|                   5|                  0|               32|                20|               38|           0.01|         8|         Snow|           275|\n",
      "| 1997-1-8|              26|               22|              18|            16|            13|           10|          78|           69|          53|                   30.24|                    30.16|                   30.01|                 10|                   7|                  2|               22|                17|               32|           0.00|         6|         Snow|           287|\n",
      "| 1997-1-9|              25|               18|              10|            22|            14|            7|          92|           84|          69|                    30.2|                    29.82|                   29.36|                 10|                   7|                  1|               16|                 7|             null|           0.09|         7|         Snow|            83|\n",
      "|1997-1-10|              33|               29|              25|            28|            20|           12|          96|           70|          50|                   29.44|                    29.29|                   29.21|                 10|                   9|                  0|               22|                10|               28|           0.05|         8|         Snow|           225|\n",
      "|1997-1-11|              26|               22|              19|            15|            10|            8|          81|           63|          53|                   29.87|                    29.65|                   29.45|                 10|                   9|                  5|               31|                21|               36|           0.00|         7|         Snow|           250|\n",
      "|1997-1-12|              21|               20|              19|            14|            10|            8|          74|           65|          58|                   30.19|                    30.05|                   29.87|                 10|                   9|                  6|               31|                24|               36|           0.00|         7|         Snow|           252|\n",
      "|1997-1-13|              24|               22|              21|            21|            17|           14|          88|           77|          69|                   30.32|                    30.28|                   30.19|                 10|                   7|                  0|               22|                18|               29|           0.01|         8|         Snow|           254|\n",
      "|1997-1-14|              28|               24|              21|            18|            16|           12|          80|           72|          63|                   30.34|                    30.32|                   30.28|                 10|                   9|                  9|               22|                17|               28|           0.00|         8|         Snow|           254|\n",
      "|1997-1-15|              36|               24|              14|            19|            14|           10|          84|           60|          46|                   30.33|                    30.09|                    29.6|                 10|                  10|                 10|               18|                 9|             null|           0.00|         6|         null|           142|\n",
      "|1997-1-16|              39|               27|              12|            31|            19|            1|          88|           65|          47|                   29.66|                    29.46|                   29.35|                 10|                   9|                  1|               29|                20|               41|           0.02|         7|    Rain-Snow|           248|\n",
      "|1997-1-17|              12|                8|               3|             9|             0|           -8|          96|           70|          50|                   29.91|                    29.82|                   29.68|                 10|                   4|                  0|               28|                18|               33|           0.03|         7|         Snow|           267|\n",
      "|1997-1-18|               7|                2|              -2|             3|            -6|          -12|          84|           68|          53|                   30.17|                    29.98|                   29.78|                 10|                   6|                  1|               22|                14|               26|           0.02|         6|         Snow|           275|\n",
      "|1997-1-19|              18|                4|              -8|             2|            -3|          -13|          83|           63|          47|                   30.15|                    30.05|                   29.89|                 10|                   8|                  1|               16|                 7|             null|           0.03|         7|         Snow|           188|\n",
      "|1997-1-20|              32|               26|              19|            28|            19|            5|          93|           76|          50|                   30.14|                    29.87|                   29.75|                 10|                   6|                  1|               20|                11|               22|           0.03|         8|         Snow|           252|\n",
      "+---------+----------------+-----------------+----------------+--------------+--------------+-------------+------------+-------------+------------+------------------------+-------------------------+------------------------+-------------------+--------------------+-------------------+-----------------+------------------+-----------------+---------------+----------+-------------+--------------+\n",
      "only showing top 20 rows\n",
      "\n"
     ]
    }
   ],
   "source": [
    "s3_bucket = \"labe\"\n",
    "file_name = \"syracuse-ny.csv\"\n",
    "print(\"Hello\")\n",
    "source = f\"s3a://{s3_bucket}/{file_name}\"\n",
    "weather = spark.read.option(\"header\", True).option(\"inferSchema\", True)\\\n",
    "    .csv(source)\n",
    "weather.show()"
   ]
  },
  {
   "cell_type": "code",
   "execution_count": 10,
   "id": "355b97b5-d1fb-448a-bf0e-8ca259ae643b",
   "metadata": {},
   "outputs": [
    {
     "name": "stdout",
     "output_type": "stream",
     "text": [
      "+--------+---------+-----------+\n",
      "|database|tableName|isTemporary|\n",
      "+--------+---------+-----------+\n",
      "|        |  weather|       true|\n",
      "+--------+---------+-----------+\n",
      "\n"
     ]
    }
   ],
   "source": [
    "weather = spark.read.option(\"header\", True).option(\"inferSchema\", True)\\\n",
    "    .csv(source)\n",
    "weather.createOrReplaceTempView(\"weather\")\n",
    "\n",
    "spark.sql(\"show tables\").show()"
   ]
  },
  {
   "cell_type": "code",
   "execution_count": 15,
   "id": "c559473c-b82d-4dcd-ba70-424e9fa79d47",
   "metadata": {},
   "outputs": [
    {
     "name": "stdout",
     "output_type": "stream",
     "text": [
      "root\n",
      " |-- year: integer (nullable = true)\n",
      " |-- month: integer (nullable = true)\n",
      " |-- avgmintemp: double (nullable = true)\n",
      " |-- avgmaxtemp: double (nullable = true)\n",
      "\n"
     ]
    }
   ],
   "source": [
    "query = \"\"\"\n",
    "WITH Source AS (\n",
    "    SELECT \n",
    "        CAST(SPLIT(EST, '-')[0] AS INT) AS year, \n",
    "        CAST(SPLIT(EST, '-')[1] AS INT) AS month,\n",
    "        CAST(`Min TemperatureF` AS INT) AS mintemp,\n",
    "        CAST(`Max TemperatureF` AS INT) AS maxtemp\n",
    "    FROM weather\n",
    ")\n",
    "SELECT year, month, AVG(mintemp) AS avgmintemp, AVG(maxtemp) AS avgmaxtemp\n",
    "FROM Source\n",
    "GROUP BY year, month\n",
    "ORDER BY year, month\n",
    "\"\"\"\n",
    "\n",
    "spark.sql(query).printSchema()\n",
    "weather2 = spark.sql(query)"
   ]
  },
  {
   "cell_type": "code",
   "execution_count": 16,
   "id": "eaa05fbf-8b68-4214-b03d-b388010ad220",
   "metadata": {},
   "outputs": [
    {
     "name": "stderr",
     "output_type": "stream",
     "text": [
      "[Stage 8:============================================>          (163 + 1) / 200]\r"
     ]
    },
    {
     "name": "stdout",
     "output_type": "stream",
     "text": [
      "+----+-----+------------------+------------------+\n",
      "|year|month|        avgmintemp|        avgmaxtemp|\n",
      "+----+-----+------------------+------------------+\n",
      "|1997|    1|15.774193548387096| 31.64516129032258|\n",
      "|1997|    2|22.607142857142858|37.785714285714285|\n",
      "|1997|    3|25.032258064516128| 41.12903225806452|\n",
      "|1997|    4| 34.43333333333333|              54.1|\n",
      "|1997|    5|43.096774193548384| 61.58064516129032|\n",
      "|1997|    6|              57.8|              78.4|\n",
      "|1997|    7| 59.87096774193548| 80.19354838709677|\n",
      "|1997|    8| 58.70967741935484| 78.38709677419355|\n",
      "|1997|    9| 51.06666666666667|              69.4|\n",
      "|1997|   10|38.935483870967744| 59.16129032258065|\n",
      "|1997|   11|31.466666666666665|42.666666666666664|\n",
      "|1997|   12|25.032258064516128|35.516129032258064|\n",
      "|1998|    1|23.258064516129032| 35.41935483870968|\n",
      "|1998|    2|24.142857142857142|              38.0|\n",
      "|1998|    3|30.129032258064516|45.064516129032256|\n",
      "|1998|    4|              38.0| 58.46666666666667|\n",
      "|1998|    5| 52.45161290322581|  73.6774193548387|\n",
      "|1998|    6|57.333333333333336|              75.3|\n",
      "|1998|    7| 61.29032258064516| 79.03225806451613|\n",
      "|1998|    8|              61.0| 81.09677419354838|\n",
      "+----+-----+------------------+------------------+\n",
      "only showing top 20 rows\n",
      "\n"
     ]
    },
    {
     "name": "stderr",
     "output_type": "stream",
     "text": [
      "                                                                                \r"
     ]
    }
   ],
   "source": [
    "weather2.createOrReplaceTempView(\"monthly_syracuse_weather_averages\")\n",
    "query2 = '''\n",
    "select * from monthly_syracuse_weather_averages\n",
    "'''\n",
    "spark.sql(query2).show()"
   ]
  },
  {
   "cell_type": "code",
   "execution_count": null,
   "id": "550ce0b6-c82b-4f32-9eb8-88a346f96b4a",
   "metadata": {},
   "outputs": [],
   "source": []
  }
 ],
 "metadata": {
  "kernelspec": {
   "display_name": "Python 3 (ipykernel)",
   "language": "python",
   "name": "python3"
  },
  "language_info": {
   "codemirror_mode": {
    "name": "ipython",
    "version": 3
   },
   "file_extension": ".py",
   "mimetype": "text/x-python",
   "name": "python",
   "nbconvert_exporter": "python",
   "pygments_lexer": "ipython3",
   "version": "3.9.6"
  }
 },
 "nbformat": 4,
 "nbformat_minor": 5
}
