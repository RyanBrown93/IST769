{
 "cells": [
  {
   "cell_type": "code",
   "execution_count": 23,
   "id": "a4ec74d1-32df-478f-9e25-d5c97173f49c",
   "metadata": {},
   "outputs": [
    {
     "name": "stdout",
     "output_type": "stream",
     "text": [
      "Hello\n"
     ]
    }
   ],
   "source": [
    "import pyspark\n",
    "from pyspark.sql import SparkSession\n",
    "print(\"Hello\")"
   ]
  },
  {
   "cell_type": "code",
   "execution_count": 27,
   "id": "da7ccf92-dcf1-4bea-858e-65ca97ed0aeb",
   "metadata": {},
   "outputs": [
    {
     "name": "stdout",
     "output_type": "stream",
     "text": [
      "http://minio:9000\n"
     ]
    }
   ],
   "source": [
    "#Minio Configuration\n",
    "s3_host = \"minio\"\n",
    "s3_url = f\"http://{s3_host}:9000\"\n",
    "s3_key = \"minio\"\n",
    "s3_secret = \"SU2orange!\"\n",
    "s3_bucket = \"labd\"\n",
    "print(s3_url)"
   ]
  },
  {
   "cell_type": "code",
   "execution_count": 29,
   "id": "3730a3ef-4284-45bd-b672-64cb1a277b2f",
   "metadata": {},
   "outputs": [
    {
     "name": "stdout",
     "output_type": "stream",
     "text": [
      "labd\n"
     ]
    }
   ],
   "source": [
    "#Spark init\n",
    "spark = SparkSession.builder \\\n",
    "    .master(\"local\") \\\n",
    "    .appName('jupyter-psyspark') \\\n",
    "    .config(\"spark.jars.packages\",\"org.apache.hadoop:hadoop-aws:3.1.2\") \\\n",
    "    .config(\"spark.hadoop.fs.s3a.endpoint\", s3_url) \\\n",
    "    .config(\"spark.hadoop.fs.s3a.access.key\", s3_key) \\\n",
    "    .config(\"spark.hadoop.fs.s3a.secret.key\", s3_secret) \\\n",
    "    .config(\"spark.hadoop.fs.s3a.fast.upload\", True) \\\n",
    "    .config(\"spark.hadoop.fs.s3a.path.style.access\", True) \\\n",
    "    .config(\"spark.hadoop.fs.s3a.impl\", \"org.apache.hadoop.fs.s3a.S3AFileSystem\") \\\n",
    "    .getOrCreate()\n",
    "sc = spark.sparkContext\n",
    "print(s3_bucket)\n",
    "sc.setLogLevel(\"ERROR\")"
   ]
  },
  {
   "cell_type": "code",
   "execution_count": 30,
   "id": "3818fcdd-1f03-4a76-8d3c-e859ce0ed0d8",
   "metadata": {},
   "outputs": [
    {
     "name": "stdout",
     "output_type": "stream",
     "text": [
      "Hello\n",
      "s3a://labd/logs/*.log\n",
      "+--------------------+\n",
      "|               value|\n",
      "+--------------------+\n",
      "|#Software: Micros...|\n",
      "|       #Version: 1.0|\n",
      "|#Date: 2016-02-11...|\n",
      "|#Fields: date tim...|\n",
      "|2016-02-11 17:16:...|\n",
      "|2016-02-11 17:16:...|\n",
      "|2016-02-11 17:16:...|\n",
      "|2016-02-11 17:16:...|\n",
      "|2016-02-11 17:16:...|\n",
      "|2016-02-11 17:16:...|\n",
      "|2016-02-11 17:16:...|\n",
      "|2016-02-11 17:16:...|\n",
      "|2016-02-11 17:16:...|\n",
      "|2016-02-11 17:16:...|\n",
      "|2016-02-11 17:16:...|\n",
      "|2016-02-11 17:16:...|\n",
      "|2016-02-11 17:16:...|\n",
      "|2016-02-11 17:16:...|\n",
      "|2016-02-11 17:16:...|\n",
      "|2016-02-11 17:16:...|\n",
      "+--------------------+\n",
      "only showing top 20 rows\n",
      "\n"
     ]
    }
   ],
   "source": [
    "s3_bucket = \"labd\"\n",
    "print(\"Hello\")\n",
    "log_in = f\"s3a://{s3_bucket}/logs/*.log\"\n",
    "print(log_in)\n",
    "logs1 = spark.read.text(log_in)\n",
    "logs1.show()"
   ]
  },
  {
   "cell_type": "code",
   "execution_count": 31,
   "id": "d6422627-b70d-465c-8c66-fe248cf8e1c0",
   "metadata": {},
   "outputs": [
    {
     "name": "stdout",
     "output_type": "stream",
     "text": [
      "+--------------------+\n",
      "|               value|\n",
      "+--------------------+\n",
      "|2016-02-11 17:16:...|\n",
      "|2016-02-11 17:16:...|\n",
      "|2016-02-11 17:16:...|\n",
      "|2016-02-11 17:16:...|\n",
      "|2016-02-11 17:16:...|\n",
      "|2016-02-11 17:16:...|\n",
      "|2016-02-11 17:16:...|\n",
      "|2016-02-11 17:16:...|\n",
      "|2016-02-11 17:16:...|\n",
      "|2016-02-11 17:16:...|\n",
      "|2016-02-11 17:16:...|\n",
      "|2016-02-11 17:16:...|\n",
      "|2016-02-11 17:16:...|\n",
      "|2016-02-11 17:16:...|\n",
      "|2016-02-11 17:16:...|\n",
      "|2016-02-11 17:16:...|\n",
      "|2016-02-11 17:16:...|\n",
      "|2016-02-11 17:16:...|\n",
      "|2016-02-11 17:16:...|\n",
      "|2016-02-11 17:16:...|\n",
      "+--------------------+\n",
      "only showing top 20 rows\n",
      "\n"
     ]
    }
   ],
   "source": [
    "logs2 = logs1.filter(~logs1.value.startswith(\"#\"))\n",
    "logs2.show()"
   ]
  },
  {
   "cell_type": "code",
   "execution_count": 32,
   "id": "03d3f930-7c50-4671-91db-660cebbf3613",
   "metadata": {},
   "outputs": [
    {
     "name": "stdout",
     "output_type": "stream",
     "text": [
      "s3a://labd/logs/logs_no_header\n"
     ]
    }
   ],
   "source": [
    "logs_out = f\"s3a://{s3_bucket}/logs/logs_no_header\"\n",
    "logs2.write.text(logs_out)\n",
    "print(logs_out)"
   ]
  },
  {
   "cell_type": "code",
   "execution_count": 33,
   "id": "4e4806b5-a085-4dd4-8d46-70d49b2e407f",
   "metadata": {},
   "outputs": [
    {
     "name": "stdout",
     "output_type": "stream",
     "text": [
      "root\n",
      " |-- _c0: string (nullable = true)\n",
      " |-- _c1: string (nullable = true)\n",
      " |-- _c2: string (nullable = true)\n",
      " |-- _c3: string (nullable = true)\n",
      " |-- _c4: string (nullable = true)\n",
      " |-- _c5: string (nullable = true)\n",
      " |-- _c6: integer (nullable = true)\n",
      " |-- _c7: string (nullable = true)\n",
      " |-- _c8: string (nullable = true)\n",
      " |-- _c9: string (nullable = true)\n",
      " |-- _c10: string (nullable = true)\n",
      " |-- _c11: integer (nullable = true)\n",
      " |-- _c12: integer (nullable = true)\n",
      " |-- _c13: integer (nullable = true)\n",
      " |-- _c14: integer (nullable = true)\n",
      "\n"
     ]
    }
   ],
   "source": [
    "logs3 = spark.read.option(\"sep\",\" \").option(\"inferSchema\", True).csv(logs_out)\n",
    "logs3.printSchema()"
   ]
  },
  {
   "cell_type": "code",
   "execution_count": 34,
   "id": "9f7b76a6-c01c-4680-a81f-ab2bd0ed8db3",
   "metadata": {},
   "outputs": [
    {
     "name": "stdout",
     "output_type": "stream",
     "text": [
      "+----------+--------+--------------+------+--------------------+-----------+----+--------+-----------+--------------------+--------------------+----------+\n",
      "|      date|    time|      serverip|method|                 uri|querystring|port|username|   clientip|           useragent|            referrer|statuscode|\n",
      "+----------+--------+--------------+------+--------------------+-----------+----+--------+-----------+--------------------+--------------------+----------+\n",
      "|2016-02-11|17:16:13|128.230.247.37|   GET|                   /|          -|  80|       -|215.82.23.2|Mozilla/5.0+(Wind...|                   -|       200|\n",
      "|2016-02-11|17:16:13|128.230.247.37|   GET|/Content/jquery-u...|          -|  80|       -|215.82.23.2|Mozilla/5.0+(Wind...|http://group0.ist...|       200|\n",
      "|2016-02-11|17:16:13|128.230.247.37|   GET|/Plugins/Widgets....|          -|  80|       -|215.82.23.2|Mozilla/5.0+(Wind...|http://group0.ist...|       200|\n",
      "|2016-02-11|17:16:13|128.230.247.37|   GET|/Plugins/Widgets....|          -|  80|       -|215.82.23.2|Mozilla/5.0+(Wind...|http://group0.ist...|       200|\n",
      "|2016-02-11|17:16:13|128.230.247.37|   GET|/Scripts/jquery.v...|          -|  80|       -|215.82.23.2|Mozilla/5.0+(Wind...|http://group0.ist...|       200|\n",
      "|2016-02-11|17:16:13|128.230.247.37|   GET|/Scripts/jquery.v...|          -|  80|       -|215.82.23.2|Mozilla/5.0+(Wind...|http://group0.ist...|       200|\n",
      "|2016-02-11|17:16:13|128.230.247.37|   GET|/Themes/DefaultCl...|          -|  80|       -|215.82.23.2|Mozilla/5.0+(Wind...|http://group0.ist...|       200|\n",
      "|2016-02-11|17:16:13|128.230.247.37|   GET|/Scripts/jquery-m...|          -|  80|       -|215.82.23.2|Mozilla/5.0+(Wind...|http://group0.ist...|       200|\n",
      "|2016-02-11|17:16:13|128.230.247.37|   GET|/Scripts/public.c...|          -|  80|       -|215.82.23.2|Mozilla/5.0+(Wind...|http://group0.ist...|       200|\n",
      "|2016-02-11|17:16:13|128.230.247.37|   GET|/Scripts/public.a...|          -|  80|       -|215.82.23.2|Mozilla/5.0+(Wind...|http://group0.ist...|       200|\n",
      "|2016-02-11|17:16:13|128.230.247.37|   GET|/Plugins/Widgets....|          -|  80|       -|215.82.23.2|Mozilla/5.0+(Wind...|http://group0.ist...|       200|\n",
      "|2016-02-11|17:16:13|128.230.247.37|   GET|/Scripts/jquery-u...|          -|  80|       -|215.82.23.2|Mozilla/5.0+(Wind...|http://group0.ist...|       200|\n",
      "|2016-02-11|17:16:13|128.230.247.37|   GET|/Scripts/jquery-1...|          -|  80|       -|215.82.23.2|Mozilla/5.0+(Wind...|http://group0.ist...|       200|\n",
      "|2016-02-11|17:16:13|128.230.247.37|   GET|/content/images/t...|          -|  80|       -|215.82.23.2|Mozilla/5.0+(Wind...|http://group0.ist...|       200|\n",
      "|2016-02-11|17:16:13|128.230.247.37|   GET|/Themes/DefaultCl...|          -|  80|       -|215.82.23.2|Mozilla/5.0+(Wind...|http://group0.ist...|       200|\n",
      "|2016-02-11|17:16:13|128.230.247.37|   GET|/content/images/t...|          -|  80|       -|215.82.23.2|Mozilla/5.0+(Wind...|http://group0.ist...|       200|\n",
      "|2016-02-11|17:16:13|128.230.247.37|   GET|/content/images/t...|          -|  80|       -|215.82.23.2|Mozilla/5.0+(Wind...|http://group0.ist...|       200|\n",
      "|2016-02-11|17:16:13|128.230.247.37|   GET|/content/images/t...|          -|  80|       -|215.82.23.2|Mozilla/5.0+(Wind...|http://group0.ist...|       200|\n",
      "|2016-02-11|17:16:13|128.230.247.37|   GET|/content/images/t...|          -|  80|       -|215.82.23.2|Mozilla/5.0+(Wind...|http://group0.ist...|       200|\n",
      "|2016-02-11|17:16:13|128.230.247.37|   GET|/content/images/t...|          -|  80|       -|215.82.23.2|Mozilla/5.0+(Wind...|http://group0.ist...|       200|\n",
      "+----------+--------+--------------+------+--------------------+-----------+----+--------+-----------+--------------------+--------------------+----------+\n",
      "only showing top 20 rows\n",
      "\n"
     ]
    }
   ],
   "source": [
    "logs4 = spark.read.option(\"sep\",\" \").option(\"inferSchema\", True).csv(logs_out) \\\n",
    ".toDF(\"date\", \"time\", \"serverip\", \"method\", \"uri\", \"querystring\", \"port\", \"username\", \"clientip\", \"useragent\", \"referrer\", \"statuscode\", _, _, _)\\\n",
    ".select(\"date\",\"time\", \"serverip\", \"method\", \"uri\", \"querystring\", \"port\", \"username\", \"clientip\", \"useragent\", \"referrer\", \"statuscode\")\n",
    "logs4.show()"
   ]
  },
  {
   "cell_type": "code",
   "execution_count": 37,
   "id": "ca7fed61-57ef-4027-babf-5064fe5267cc",
   "metadata": {},
   "outputs": [
    {
     "name": "stdout",
     "output_type": "stream",
     "text": [
      "root\n",
      " |-- geography: struct (nullable = true)\n",
      " |    |-- city: string (nullable = true)\n",
      " |    |-- country: string (nullable = true)\n",
      " |    |-- state: string (nullable = true)\n",
      " |-- ip: string (nullable = true)\n",
      " |-- location: struct (nullable = true)\n",
      " |    |-- lat: double (nullable = true)\n",
      " |    |-- lng: double (nullable = true)\n",
      "\n",
      "+--------------------+---------------+--------------------+\n",
      "|           geography|             ip|            location|\n",
      "+--------------------+---------------+--------------------+\n",
      "|   {Dulles, USA, VA}|  172.189.252.8|{38.955855, -77.4...|\n",
      "| {Columbus, USA, OH}|    215.82.23.2|{39.961176, -82.9...|\n",
      "|{Cleveland, USA, OH}|    98.29.25.44|{41.49932, -81.69...|\n",
      "| {Freeport, USA, NY}|  68.199.40.156|{40.657602, -73.5...|\n",
      "|{Salt Lake City, ...|155.100.169.152|{40.760779, -111....|\n",
      "|   {Dallas, USA, TX}|   38.68.15.223|{32.776664, -96.7...|\n",
      "|    {Tampa, USA, FL}|   70.209.14.54|{27.950575, -82.4...|\n",
      "|{Arlington, USA, VA}|   74.111.6.173|{38.87997, -77.10...|\n",
      "| {Syracuse, USA, NY}|128.230.122.180|{43.048122, -76.1...|\n",
      "| {New York, USA, NY}|128.122.140.238|{40.712784, -74.0...|\n",
      "+--------------------+---------------+--------------------+\n",
      "only showing top 10 rows\n",
      "\n"
     ]
    }
   ],
   "source": [
    "iplookup_in = f\"s3a://{s3_bucket}/iplookup/iplookup.json\"\n",
    "ips1 = spark.read.option(\"multiline\", True).json(iplookup_in)\n",
    "ips1.printSchema()\n",
    "ips1.show(10)"
   ]
  },
  {
   "cell_type": "code",
   "execution_count": 40,
   "id": "7fe44ff4-25ba-4923-b6a4-f4b875173257",
   "metadata": {},
   "outputs": [
    {
     "name": "stdout",
     "output_type": "stream",
     "text": [
      "+---------------+--------------+-----+-------+------------+-----------+\n",
      "|             ip|          city|state|country|location.lng|        lng|\n",
      "+---------------+--------------+-----+-------+------------+-----------+\n",
      "|  172.189.252.8|        Dulles|   VA|    USA|  -77.447819| -77.447819|\n",
      "|    215.82.23.2|      Columbus|   OH|    USA|  -82.998794| -82.998794|\n",
      "|    98.29.25.44|     Cleveland|   OH|    USA|  -81.694361| -81.694361|\n",
      "|  68.199.40.156|      Freeport|   NY|    USA|  -73.583184| -73.583184|\n",
      "|155.100.169.152|Salt Lake City|   UT|    USA| -111.891047|-111.891047|\n",
      "|   38.68.15.223|        Dallas|   TX|    USA|  -96.796988| -96.796988|\n",
      "|   70.209.14.54|         Tampa|   FL|    USA|  -82.457178| -82.457178|\n",
      "|   74.111.6.173|     Arlington|   VA|    USA|   -77.10677|  -77.10677|\n",
      "|128.230.122.180|      Syracuse|   NY|    USA|  -76.147424| -76.147424|\n",
      "|128.122.140.238|      New York|   NY|    USA|  -74.005941| -74.005941|\n",
      "| 56.216.127.219|       Raleigh|   NC|    USA|  -78.638179| -78.638179|\n",
      "| 54.114.107.209|   Jersey City|   NJ|    USA|  -74.077642| -74.077642|\n",
      "|   74.111.18.59|      Syracuse|   NY|    USA|  -76.147424| -76.147424|\n",
      "|    8.37.70.170|   Los Angeles|   CA|    USA| -118.243685|-118.243685|\n",
      "|     8.37.70.77|   Los Angeles|   CA|    USA| -118.243685|-118.243685|\n",
      "|    8.37.70.112|   Los Angeles|   CA|    USA| -118.243685|-118.243685|\n",
      "|    8.37.70.226|   Los Angeles|   CA|    USA| -118.243685|-118.243685|\n",
      "|     8.37.70.99|   Los Angeles|   CA|    USA| -118.243685|-118.243685|\n",
      "|     8.37.71.43|   Los Angeles|   CA|    USA| -118.243685|-118.243685|\n",
      "|     8.37.71.25|   Los Angeles|   CA|    USA| -118.243685|-118.243685|\n",
      "+---------------+--------------+-----+-------+------------+-----------+\n",
      "only showing top 20 rows\n",
      "\n"
     ]
    }
   ],
   "source": [
    "ips2 = ips1.select(\"ip\", \"geography.city\", \"geography.state\", \"geography.country\", ips1.location.lng, ips1.location.lng.alias(\"lng\"))\n",
    "ips2.show()"
   ]
  },
  {
   "cell_type": "code",
   "execution_count": 43,
   "id": "fcdaa11e-77a6-4a58-94a9-a87f7b29b614",
   "metadata": {},
   "outputs": [
    {
     "name": "stdout",
     "output_type": "stream",
     "text": [
      "root\n",
      " |-- ip: string (nullable = true)\n",
      " |-- city: string (nullable = true)\n",
      " |-- state: string (nullable = true)\n",
      " |-- country: string (nullable = true)\n",
      " |-- location.lng: double (nullable = true)\n",
      " |-- lng: double (nullable = true)\n",
      " |-- date: string (nullable = true)\n",
      " |-- time: string (nullable = true)\n",
      " |-- serverip: string (nullable = true)\n",
      " |-- method: string (nullable = true)\n",
      " |-- uri: string (nullable = true)\n",
      " |-- querystring: string (nullable = true)\n",
      " |-- port: integer (nullable = true)\n",
      " |-- username: string (nullable = true)\n",
      " |-- clientip: string (nullable = true)\n",
      " |-- useragent: string (nullable = true)\n",
      " |-- referrer: string (nullable = true)\n",
      " |-- statuscode: integer (nullable = true)\n",
      "\n",
      "+---------------+--------+-----+-------+------------+----------+----------+--------+--------------+------+--------------------+-----------+----+--------+---------------+--------------------+--------------------+----------+\n",
      "|             ip|    city|state|country|location.lng|       lng|      date|    time|      serverip|method|                 uri|querystring|port|username|       clientip|           useragent|            referrer|statuscode|\n",
      "+---------------+--------+-----+-------+------------+----------+----------+--------+--------------+------+--------------------+-----------+----+--------+---------------+--------------------+--------------------+----------+\n",
      "|    215.82.23.2|Columbus|   OH|    USA|  -82.998794|-82.998794|2016-02-11|17:16:13|128.230.247.37|   GET|                   /|          -|  80|       -|    215.82.23.2|Mozilla/5.0+(Wind...|                   -|       200|\n",
      "|    215.82.23.2|Columbus|   OH|    USA|  -82.998794|-82.998794|2016-02-11|17:16:13|128.230.247.37|   GET|/Content/jquery-u...|          -|  80|       -|    215.82.23.2|Mozilla/5.0+(Wind...|http://group0.ist...|       200|\n",
      "|    215.82.23.2|Columbus|   OH|    USA|  -82.998794|-82.998794|2016-02-11|17:16:13|128.230.247.37|   GET|/Plugins/Widgets....|          -|  80|       -|    215.82.23.2|Mozilla/5.0+(Wind...|http://group0.ist...|       200|\n",
      "|    215.82.23.2|Columbus|   OH|    USA|  -82.998794|-82.998794|2016-02-11|17:16:13|128.230.247.37|   GET|/Plugins/Widgets....|          -|  80|       -|    215.82.23.2|Mozilla/5.0+(Wind...|http://group0.ist...|       200|\n",
      "|    215.82.23.2|Columbus|   OH|    USA|  -82.998794|-82.998794|2016-02-11|17:16:13|128.230.247.37|   GET|/Scripts/jquery.v...|          -|  80|       -|    215.82.23.2|Mozilla/5.0+(Wind...|http://group0.ist...|       200|\n",
      "|    215.82.23.2|Columbus|   OH|    USA|  -82.998794|-82.998794|2016-02-11|17:16:13|128.230.247.37|   GET|/Scripts/jquery.v...|          -|  80|       -|    215.82.23.2|Mozilla/5.0+(Wind...|http://group0.ist...|       200|\n",
      "|    215.82.23.2|Columbus|   OH|    USA|  -82.998794|-82.998794|2016-02-11|17:16:13|128.230.247.37|   GET|/Themes/DefaultCl...|          -|  80|       -|    215.82.23.2|Mozilla/5.0+(Wind...|http://group0.ist...|       200|\n",
      "|    215.82.23.2|Columbus|   OH|    USA|  -82.998794|-82.998794|2016-02-11|17:16:13|128.230.247.37|   GET|/Scripts/jquery-m...|          -|  80|       -|    215.82.23.2|Mozilla/5.0+(Wind...|http://group0.ist...|       200|\n",
      "|    215.82.23.2|Columbus|   OH|    USA|  -82.998794|-82.998794|2016-02-11|17:16:13|128.230.247.37|   GET|/Scripts/public.c...|          -|  80|       -|    215.82.23.2|Mozilla/5.0+(Wind...|http://group0.ist...|       200|\n",
      "|    215.82.23.2|Columbus|   OH|    USA|  -82.998794|-82.998794|2016-02-11|17:16:13|128.230.247.37|   GET|/Scripts/public.a...|          -|  80|       -|    215.82.23.2|Mozilla/5.0+(Wind...|http://group0.ist...|       200|\n",
      "|    215.82.23.2|Columbus|   OH|    USA|  -82.998794|-82.998794|2016-02-11|17:16:13|128.230.247.37|   GET|/Plugins/Widgets....|          -|  80|       -|    215.82.23.2|Mozilla/5.0+(Wind...|http://group0.ist...|       200|\n",
      "|    215.82.23.2|Columbus|   OH|    USA|  -82.998794|-82.998794|2016-02-11|17:16:13|128.230.247.37|   GET|/Scripts/jquery-u...|          -|  80|       -|    215.82.23.2|Mozilla/5.0+(Wind...|http://group0.ist...|       200|\n",
      "|    215.82.23.2|Columbus|   OH|    USA|  -82.998794|-82.998794|2016-02-11|17:16:13|128.230.247.37|   GET|/Scripts/jquery-1...|          -|  80|       -|    215.82.23.2|Mozilla/5.0+(Wind...|http://group0.ist...|       200|\n",
      "|    215.82.23.2|Columbus|   OH|    USA|  -82.998794|-82.998794|2016-02-11|17:16:13|128.230.247.37|   GET|/content/images/t...|          -|  80|       -|    215.82.23.2|Mozilla/5.0+(Wind...|http://group0.ist...|       200|\n",
      "|    215.82.23.2|Columbus|   OH|    USA|  -82.998794|-82.998794|2016-02-11|17:16:13|128.230.247.37|   GET|/Themes/DefaultCl...|          -|  80|       -|    215.82.23.2|Mozilla/5.0+(Wind...|http://group0.ist...|       200|\n",
      "|    215.82.23.2|Columbus|   OH|    USA|  -82.998794|-82.998794|2016-02-11|17:16:13|128.230.247.37|   GET|/content/images/t...|          -|  80|       -|    215.82.23.2|Mozilla/5.0+(Wind...|http://group0.ist...|       200|\n",
      "|    215.82.23.2|Columbus|   OH|    USA|  -82.998794|-82.998794|2016-02-11|17:16:13|128.230.247.37|   GET|/content/images/t...|          -|  80|       -|    215.82.23.2|Mozilla/5.0+(Wind...|http://group0.ist...|       200|\n",
      "|    215.82.23.2|Columbus|   OH|    USA|  -82.998794|-82.998794|2016-02-11|17:16:13|128.230.247.37|   GET|/content/images/t...|          -|  80|       -|    215.82.23.2|Mozilla/5.0+(Wind...|http://group0.ist...|       200|\n",
      "|    215.82.23.2|Columbus|   OH|    USA|  -82.998794|-82.998794|2016-02-11|17:16:13|128.230.247.37|   GET|/content/images/t...|          -|  80|       -|    215.82.23.2|Mozilla/5.0+(Wind...|http://group0.ist...|       200|\n",
      "|    215.82.23.2|Columbus|   OH|    USA|  -82.998794|-82.998794|2016-02-11|17:16:13|128.230.247.37|   GET|/content/images/t...|          -|  80|       -|    215.82.23.2|Mozilla/5.0+(Wind...|http://group0.ist...|       200|\n",
      "|    215.82.23.2|Columbus|   OH|    USA|  -82.998794|-82.998794|2016-02-11|17:16:13|128.230.247.37|   GET|/content/images/t...|          -|  80|       -|    215.82.23.2|Mozilla/5.0+(Wind...|http://group0.ist...|       200|\n",
      "|    215.82.23.2|Columbus|   OH|    USA|  -82.998794|-82.998794|2016-02-11|17:16:13|128.230.247.37|   GET|/content/images/t...|          -|  80|       -|    215.82.23.2|Mozilla/5.0+(Wind...|http://group0.ist...|       200|\n",
      "|    215.82.23.2|Columbus|   OH|    USA|  -82.998794|-82.998794|2016-02-11|17:16:13|128.230.247.37|   GET|/Plugins/Widgets....|          -|  80|       -|    215.82.23.2|Mozilla/5.0+(Wind...|http://group0.ist...|       200|\n",
      "|    215.82.23.2|Columbus|   OH|    USA|  -82.998794|-82.998794|2016-02-11|17:16:13|128.230.247.37|   GET|/Themes/DefaultCl...|          -|  80|       -|    215.82.23.2|Mozilla/5.0+(Wind...|http://group0.ist...|       200|\n",
      "|    215.82.23.2|Columbus|   OH|    USA|  -82.998794|-82.998794|2016-02-11|17:16:13|128.230.247.37|   GET|/Themes/DefaultCl...|          -|  80|       -|    215.82.23.2|Mozilla/5.0+(Wind...|http://group0.ist...|       200|\n",
      "|    215.82.23.2|Columbus|   OH|    USA|  -82.998794|-82.998794|2016-02-11|17:16:13|128.230.247.37|   GET|/Themes/DefaultCl...|          -|  80|       -|    215.82.23.2|Mozilla/5.0+(Wind...|http://group0.ist...|       200|\n",
      "|    215.82.23.2|Columbus|   OH|    USA|  -82.998794|-82.998794|2016-02-11|17:16:13|128.230.247.37|   GET|/Themes/DefaultCl...|          -|  80|       -|    215.82.23.2|Mozilla/5.0+(Wind...|http://group0.ist...|       200|\n",
      "|    215.82.23.2|Columbus|   OH|    USA|  -82.998794|-82.998794|2016-02-11|17:16:13|128.230.247.37|   GET|/Themes/DefaultCl...|          -|  80|       -|    215.82.23.2|Mozilla/5.0+(Wind...|http://group0.ist...|       200|\n",
      "|    215.82.23.2|Columbus|   OH|    USA|  -82.998794|-82.998794|2016-02-11|17:16:13|128.230.247.37|   GET|/Content/jquery-u...|          -|  80|       -|    215.82.23.2|Mozilla/5.0+(Wind...|http://group0.ist...|       200|\n",
      "|    215.82.23.2|Columbus|   OH|    USA|  -82.998794|-82.998794|2016-02-11|17:16:13|128.230.247.37|   GET|/Themes/DefaultCl...|          -|  80|       -|    215.82.23.2|Mozilla/5.0+(Wind...|http://group0.ist...|       200|\n",
      "|    215.82.23.2|Columbus|   OH|    USA|  -82.998794|-82.998794|2016-02-11|17:16:13|128.230.247.37|   GET|        /favicon.ico|          -|  80|       -|    215.82.23.2|Mozilla/5.0+(Wind...|                   -|       200|\n",
      "|    215.82.23.2|Columbus|   OH|    USA|  -82.998794|-82.998794|2016-02-11|17:16:13|128.230.247.37|   GET|/content/images/t...|          -|  80|       -|    215.82.23.2|Mozilla/5.0+(Wind...|http://group0.ist...|       200|\n",
      "|    215.82.23.2|Columbus|   OH|    USA|  -82.998794|-82.998794|2016-02-11|17:16:17|128.230.247.37|   GET|           /desktops|          -|  80|       -|    215.82.23.2|Mozilla/5.0+(Wind...|http://group0.ist...|       200|\n",
      "|    215.82.23.2|Columbus|   OH|    USA|  -82.998794|-82.998794|2016-02-11|17:16:17|128.230.247.37|   GET|/content/images/t...|          -|  80|       -|    215.82.23.2|Mozilla/5.0+(Wind...|http://group0.ist...|       200|\n",
      "|    215.82.23.2|Columbus|   OH|    USA|  -82.998794|-82.998794|2016-02-11|17:16:17|128.230.247.37|   GET|/content/images/t...|          -|  80|       -|    215.82.23.2|Mozilla/5.0+(Wind...|http://group0.ist...|       200|\n",
      "|    215.82.23.2|Columbus|   OH|    USA|  -82.998794|-82.998794|2016-02-11|17:16:17|128.230.247.37|   GET|/Themes/DefaultCl...|          -|  80|       -|    215.82.23.2|Mozilla/5.0+(Wind...|http://group0.ist...|       200|\n",
      "|    215.82.23.2|Columbus|   OH|    USA|  -82.998794|-82.998794|2016-02-11|17:16:17|128.230.247.37|   GET|/Themes/DefaultCl...|          -|  80|       -|    215.82.23.2|Mozilla/5.0+(Wind...|http://group0.ist...|       200|\n",
      "|    215.82.23.2|Columbus|   OH|    USA|  -82.998794|-82.998794|2016-02-11|17:16:19|128.230.247.37|   GET|/digital-storm-va...|          -|  80|       -|    215.82.23.2|Mozilla/5.0+(Wind...|http://group0.ist...|       200|\n",
      "|    215.82.23.2|Columbus|   OH|    USA|  -82.998794|-82.998794|2016-02-11|17:16:19|128.230.247.37|   GET|/Content/magnific...|          -|  80|       -|    215.82.23.2|Mozilla/5.0+(Wind...|http://group0.ist...|       200|\n",
      "|    215.82.23.2|Columbus|   OH|    USA|  -82.998794|-82.998794|2016-02-11|17:16:19|128.230.247.37|   GET|/Scripts/jquery.m...|          -|  80|       -|    215.82.23.2|Mozilla/5.0+(Wind...|http://group0.ist...|       200|\n",
      "|    215.82.23.2|Columbus|   OH|    USA|  -82.998794|-82.998794|2016-02-11|17:16:19|128.230.247.37|   GET|/content/images/t...|          -|  80|       -|    215.82.23.2|Mozilla/5.0+(Wind...|http://group0.ist...|       200|\n",
      "|    215.82.23.2|Columbus|   OH|    USA|  -82.998794|-82.998794|2016-02-11|17:16:19|128.230.247.37|   GET|/content/images/t...|          -|  80|       -|    215.82.23.2|Mozilla/5.0+(Wind...|http://group0.ist...|       200|\n",
      "|    215.82.23.2|Columbus|   OH|    USA|  -82.998794|-82.998794|2016-02-11|17:16:19|128.230.247.37|   GET|/Themes/DefaultCl...|          -|  80|       -|    215.82.23.2|Mozilla/5.0+(Wind...|http://group0.ist...|       200|\n",
      "|    215.82.23.2|Columbus|   OH|    USA|  -82.998794|-82.998794|2016-02-11|17:16:21|128.230.247.37|   GET|              /books|          -|  80|       -|    215.82.23.2|Mozilla/5.0+(Wind...|http://group0.ist...|       200|\n",
      "|    215.82.23.2|Columbus|   OH|    USA|  -82.998794|-82.998794|2016-02-11|17:16:21|128.230.247.37|   GET|/content/images/t...|          -|  80|       -|    215.82.23.2|Mozilla/5.0+(Wind...|http://group0.ist...|       200|\n",
      "|    215.82.23.2|Columbus|   OH|    USA|  -82.998794|-82.998794|2016-02-11|17:16:21|128.230.247.37|   GET|/content/images/t...|          -|  80|       -|    215.82.23.2|Mozilla/5.0+(Wind...|http://group0.ist...|       200|\n",
      "|    215.82.23.2|Columbus|   OH|    USA|  -82.998794|-82.998794|2016-02-11|17:16:21|128.230.247.37|   GET|/content/images/t...|          -|  80|       -|    215.82.23.2|Mozilla/5.0+(Wind...|http://group0.ist...|       200|\n",
      "|    215.82.23.2|Columbus|   OH|    USA|  -82.998794|-82.998794|2016-02-11|17:16:21|128.230.247.37|   GET|/content/images/t...|          -|  80|       -|    215.82.23.2|Mozilla/5.0+(Wind...|http://group0.ist...|       200|\n",
      "|    215.82.23.2|Columbus|   OH|    USA|  -82.998794|-82.998794|2016-02-11|17:16:23|128.230.247.37|   GET|/fahrenheit-451-b...|          -|  80|       -|    215.82.23.2|Mozilla/5.0+(Wind...|http://group0.ist...|       200|\n",
      "|    215.82.23.2|Columbus|   OH|    USA|  -82.998794|-82.998794|2016-02-11|17:16:23|128.230.247.37|   GET|/content/images/t...|          -|  80|       -|    215.82.23.2|Mozilla/5.0+(Wind...|http://group0.ist...|       200|\n",
      "|    215.82.23.2|Columbus|   OH|    USA|  -82.998794|-82.998794|2016-02-11|17:16:23|128.230.247.37|   GET|/Themes/DefaultCl...|          -|  80|       -|    215.82.23.2|Mozilla/5.0+(Wind...|http://group0.ist...|       200|\n",
      "|    215.82.23.2|Columbus|   OH|    USA|  -82.998794|-82.998794|2016-02-11|17:16:28|128.230.247.37|   GET|/pride-and-prejudice|          -|  80|       -|    215.82.23.2|Mozilla/5.0+(Wind...|http://group0.ist...|       200|\n",
      "|    215.82.23.2|Columbus|   OH|    USA|  -82.998794|-82.998794|2016-02-11|17:16:28|128.230.247.37|   GET|/content/images/t...|          -|  80|       -|    215.82.23.2|Mozilla/5.0+(Wind...|http://group0.ist...|       200|\n",
      "|128.122.140.238|New York|   NY|    USA|  -74.005941|-74.005941|2016-02-11|17:16:50|128.230.247.37|   GET|                   /|          -|  80|       -|128.122.140.238|Mozilla/5.0+(Wind...|                   -|       200|\n",
      "|128.122.140.238|New York|   NY|    USA|  -74.005941|-74.005941|2016-02-11|17:16:50|128.230.247.37|   GET|/Plugins/Widgets....|          -|  80|       -|128.122.140.238|Mozilla/5.0+(Wind...|http://group0.ist...|       200|\n",
      "|128.122.140.238|New York|   NY|    USA|  -74.005941|-74.005941|2016-02-11|17:16:50|128.230.247.37|   GET|/Content/jquery-u...|          -|  80|       -|128.122.140.238|Mozilla/5.0+(Wind...|http://group0.ist...|       200|\n",
      "|128.122.140.238|New York|   NY|    USA|  -74.005941|-74.005941|2016-02-11|17:16:50|128.230.247.37|   GET|/Scripts/jquery.v...|          -|  80|       -|128.122.140.238|Mozilla/5.0+(Wind...|http://group0.ist...|       200|\n",
      "|128.122.140.238|New York|   NY|    USA|  -74.005941|-74.005941|2016-02-11|17:16:50|128.230.247.37|   GET|/Scripts/jquery.v...|          -|  80|       -|128.122.140.238|Mozilla/5.0+(Wind...|http://group0.ist...|       200|\n",
      "|128.122.140.238|New York|   NY|    USA|  -74.005941|-74.005941|2016-02-11|17:16:50|128.230.247.37|   GET|/Plugins/Widgets....|          -|  80|       -|128.122.140.238|Mozilla/5.0+(Wind...|http://group0.ist...|       200|\n",
      "|128.122.140.238|New York|   NY|    USA|  -74.005941|-74.005941|2016-02-11|17:16:50|128.230.247.37|   GET|/Scripts/public.c...|          -|  80|       -|128.122.140.238|Mozilla/5.0+(Wind...|http://group0.ist...|       200|\n",
      "|128.122.140.238|New York|   NY|    USA|  -74.005941|-74.005941|2016-02-11|17:16:50|128.230.247.37|   GET|/Scripts/jquery-1...|          -|  80|       -|128.122.140.238|Mozilla/5.0+(Wind...|http://group0.ist...|       200|\n",
      "|128.122.140.238|New York|   NY|    USA|  -74.005941|-74.005941|2016-02-11|17:16:50|128.230.247.37|   GET|/Scripts/jquery-m...|          -|  80|       -|128.122.140.238|Mozilla/5.0+(Wind...|http://group0.ist...|       200|\n",
      "|128.122.140.238|New York|   NY|    USA|  -74.005941|-74.005941|2016-02-11|17:16:50|128.230.247.37|   GET|/Scripts/public.a...|          -|  80|       -|128.122.140.238|Mozilla/5.0+(Wind...|http://group0.ist...|       200|\n",
      "|128.122.140.238|New York|   NY|    USA|  -74.005941|-74.005941|2016-02-11|17:16:50|128.230.247.37|   GET|/Themes/DefaultCl...|          -|  80|       -|128.122.140.238|Mozilla/5.0+(Wind...|http://group0.ist...|       200|\n",
      "|128.122.140.238|New York|   NY|    USA|  -74.005941|-74.005941|2016-02-11|17:16:50|128.230.247.37|   GET|/Scripts/jquery-u...|          -|  80|       -|128.122.140.238|Mozilla/5.0+(Wind...|http://group0.ist...|       200|\n",
      "|128.122.140.238|New York|   NY|    USA|  -74.005941|-74.005941|2016-02-11|17:16:50|128.230.247.37|   GET|/Themes/DefaultCl...|          -|  80|       -|128.122.140.238|Mozilla/5.0+(Wind...|http://group0.ist...|       200|\n",
      "|128.122.140.238|New York|   NY|    USA|  -74.005941|-74.005941|2016-02-11|17:16:50|128.230.247.37|   GET|/Plugins/Widgets....|          -|  80|       -|128.122.140.238|Mozilla/5.0+(Wind...|http://group0.ist...|       200|\n",
      "|128.122.140.238|New York|   NY|    USA|  -74.005941|-74.005941|2016-02-11|17:16:50|128.230.247.37|   GET|/content/images/t...|          -|  80|       -|128.122.140.238|Mozilla/5.0+(Wind...|http://group0.ist...|       200|\n",
      "|128.122.140.238|New York|   NY|    USA|  -74.005941|-74.005941|2016-02-11|17:16:50|128.230.247.37|   GET|/content/images/t...|          -|  80|       -|128.122.140.238|Mozilla/5.0+(Wind...|http://group0.ist...|       200|\n",
      "|128.122.140.238|New York|   NY|    USA|  -74.005941|-74.005941|2016-02-11|17:16:50|128.230.247.37|   GET|/content/images/t...|          -|  80|       -|128.122.140.238|Mozilla/5.0+(Wind...|http://group0.ist...|       200|\n",
      "|128.122.140.238|New York|   NY|    USA|  -74.005941|-74.005941|2016-02-11|17:16:50|128.230.247.37|   GET|/content/images/t...|          -|  80|       -|128.122.140.238|Mozilla/5.0+(Wind...|http://group0.ist...|       200|\n",
      "|128.122.140.238|New York|   NY|    USA|  -74.005941|-74.005941|2016-02-11|17:16:50|128.230.247.37|   GET|/content/images/t...|          -|  80|       -|128.122.140.238|Mozilla/5.0+(Wind...|http://group0.ist...|       200|\n",
      "|128.122.140.238|New York|   NY|    USA|  -74.005941|-74.005941|2016-02-11|17:16:50|128.230.247.37|   GET|/content/images/t...|          -|  80|       -|128.122.140.238|Mozilla/5.0+(Wind...|http://group0.ist...|       200|\n",
      "|128.122.140.238|New York|   NY|    USA|  -74.005941|-74.005941|2016-02-11|17:16:50|128.230.247.37|   GET|/content/images/t...|          -|  80|       -|128.122.140.238|Mozilla/5.0+(Wind...|http://group0.ist...|       200|\n",
      "|128.122.140.238|New York|   NY|    USA|  -74.005941|-74.005941|2016-02-11|17:16:50|128.230.247.37|   GET|/content/images/t...|          -|  80|       -|128.122.140.238|Mozilla/5.0+(Wind...|http://group0.ist...|       200|\n",
      "+---------------+--------+-----+-------+------------+----------+----------+--------+--------------+------+--------------------+-----------+----+--------+---------------+--------------------+--------------------+----------+\n",
      "only showing top 75 rows\n",
      "\n"
     ]
    }
   ],
   "source": [
    "comb1 = ips2.join(logs4, on = ips2.ip == logs4.clientip, how = \"inner\")\n",
    "comb1.printSchema()\n",
    "comb1.show(75)"
   ]
  },
  {
   "cell_type": "code",
   "execution_count": 44,
   "id": "2da5c712-e90b-4de4-8399-aa5f8e95d0fe",
   "metadata": {},
   "outputs": [
    {
     "name": "stderr",
     "output_type": "stream",
     "text": [
      "                                                                                \r"
     ]
    }
   ],
   "source": [
    "cleaned_logs_out = f\"s3a://{s3_bucket}/iplookup/cleaned-logs\"\n",
    "comb1.write.mode(\"Overwrite\").parquet(cleaned_logs_out)"
   ]
  },
  {
   "cell_type": "code",
   "execution_count": null,
   "id": "d94b533b-9e47-4697-887a-5f639ec9e4c2",
   "metadata": {},
   "outputs": [],
   "source": []
  }
 ],
 "metadata": {
  "kernelspec": {
   "display_name": "Python 3 (ipykernel)",
   "language": "python",
   "name": "python3"
  },
  "language_info": {
   "codemirror_mode": {
    "name": "ipython",
    "version": 3
   },
   "file_extension": ".py",
   "mimetype": "text/x-python",
   "name": "python",
   "nbconvert_exporter": "python",
   "pygments_lexer": "ipython3",
   "version": "3.9.6"
  }
 },
 "nbformat": 4,
 "nbformat_minor": 5
}
